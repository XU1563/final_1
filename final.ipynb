{
 "cells": [
  {
   "cell_type": "markdown",
   "metadata": {},
   "source": [
    "### Final Project\n",
    "Team: Vivian Fu, Xinxin Mo, Jessica Wu, Snow Xu\n",
    "Data: 4701_1 and 2\n",
    "\n",
    "##### The goal of the final project is to analyze a microbial metagenome. These metagenomes have been obtained from radioactive soil at different depths beneath the surface, and contain diverse soil microbes."
   ]
  },
  {
   "cell_type": "markdown",
   "metadata": {},
   "source": [
    "#### Week 1\n",
    "##### 1. using the SPAdes command line as shown below:\n",
    "\n",
    "spades -1 /data/metagenomes/160523Alm_D16-4701_1_sequence.fastq.gz -2 /data/metagenomes/160523Alm_D16-4701_2_sequence.fastq.gz -t 2 -m 16 --meta -o ~/snow/Lab_final\n",
    "\n",
    "annotation of the code above: specify the output directory with --o, the path to the first Illumina read with -1, the path to the second Illumina read with -2\n",
    "\n",
    "#### 2. using the command control+A+D, the screen will continue running even logged off\n",
    "**Note** : There was not enough memory on the server to complete the metagenomic assemblies. \n",
    "\n",
    "#### 3.Try web services to quantify the abundance of different microbes in your metagenome"
   ]
  },
  {
   "cell_type": "markdown",
   "metadata": {},
   "source": [
    "#### Metagenome Assembly Histogram\n",
    "Plot a histogram of contig lengths from your metagenome assembly in iPython, along with the N50.\n"
   ]
  },
  {
   "cell_type": "markdown",
   "metadata": {},
   "source": [
    "##### Contig Lengths"
   ]
  },
  {
   "cell_type": "code",
   "execution_count": null,
   "metadata": {},
   "outputs": [],
   "source": [
    "# Fill it later"
   ]
  },
  {
   "cell_type": "markdown",
   "metadata": {},
   "source": [
    "##### N50"
   ]
  },
  {
   "cell_type": "code",
   "execution_count": null,
   "metadata": {},
   "outputs": [],
   "source": [
    "# Fill it later"
   ]
  },
  {
   "cell_type": "markdown",
   "metadata": {},
   "source": [
    "### Onecodex Result and Analysis \n",
    "Using the terminal to use the onecodex analysis so that it can give us the idea of what kind of microbes were living in the soil sample. \n",
    "\n",
    "The command line used as shown below:  \n",
    "***onecodex upload --forward /data/ metagenomes/160523Alm_D16-4701_1_sequence.fastq.gz --reverse /data/metagenomes/160523alm_D16-4701_2_sequence.fasq.gz***\n",
    "\n",
    "The type of data is known as paired end sequencing data in which sequence a fragment of DNA from both the 3’ and 5’ ends (which gives higher confidence in the accuracy of your reads).  The forward file is from the 3’ end and the reverse is from the 5’ end. \n"
   ]
  },
  {
   "cell_type": "markdown",
   "metadata": {},
   "source": [
    "![Reads](amount.png)\n"
   ]
  },
  {
   "cell_type": "markdown",
   "metadata": {},
   "source": [
    "![normalized_reads](normalized.png)"
   ]
  },
  {
   "cell_type": "markdown",
   "metadata": {},
   "source": [
    "After we get the results from the onecodex that contain the quantified result about the abundance of microbes in our metagenome. In total,  this is a mixed/metagenomic sample 11% of 203,616,980 reads were classified using the One Codex database. These classified reads contain cellular organisms, Archaea, and mostly bacteria.The most abundant  bacteria sample species are Armatimonadetes bacterium 13_1_40CM_64_14 (3.91%) and Acidobacteria bacterium 13_1_40CM_4_58_4(3.83%), Actinobacteria (2.17%)\n",
    "\n",
    "\n",
    "Armatimonadetes is the most abundant species in the sample. It is a gram-negative bacteria. After being a candidate phylum described solely based on 16S RNA clones, a bacterial strain belonging to the phylum was identified in 2011.\n",
    "\n",
    "Acidobacteria is the second abundant species among all bacteria. Data predicts a number of ecologically relevant capabilities for some acidobacteria, including the ability to: use of nitrite as N source, respond to soil macro-, micro nutrients and soil acidity, express multiple active transporters, degrade gellan gum and produce exopolysaccharide (EPS).\n",
    "\n",
    "Actinobacteria bacterium makes up 2.17% of the classified reads. These are gram-positive bacteria that decompose organic matter in the soil, some species of the phylum even grow symbiotically with the plants roots, fixing nitrogen for the plan in exchange for access to the plants’ saccharides.\n",
    "\n",
    "\n"
   ]
  },
  {
   "cell_type": "code",
   "execution_count": null,
   "metadata": {},
   "outputs": [],
   "source": []
  }
 ],
 "metadata": {
  "kernelspec": {
   "display_name": "Python 3",
   "language": "python",
   "name": "python3"
  },
  "language_info": {
   "codemirror_mode": {
    "name": "ipython",
    "version": 3
   },
   "file_extension": ".py",
   "mimetype": "text/x-python",
   "name": "python",
   "nbconvert_exporter": "python",
   "pygments_lexer": "ipython3",
   "version": "3.6.6"
  }
 },
 "nbformat": 4,
 "nbformat_minor": 2
}
